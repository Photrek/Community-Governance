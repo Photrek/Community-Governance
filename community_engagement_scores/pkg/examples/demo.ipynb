{
 "cells": [
  {
   "cell_type": "markdown",
   "id": "3fc88349",
   "metadata": {},
   "source": [
    "# Community Engagement Scores\n",
    "\n",
    "This notebook demonstrates how to use the package `ces` for calculating community engagement scores with data exported from the Swae portal of SingularityNET."
   ]
  },
  {
   "cell_type": "code",
   "execution_count": null,
   "id": "ff5407b0",
   "metadata": {},
   "outputs": [],
   "source": [
    "import os\n",
    "\n",
    "from ces import swae_analysis as swa"
   ]
  },
  {
   "cell_type": "markdown",
   "id": "4c7cb354",
   "metadata": {},
   "source": [
    "## Define input and output locations"
   ]
  },
  {
   "cell_type": "code",
   "execution_count": null,
   "id": "e0f05bb8",
   "metadata": {},
   "outputs": [],
   "source": [
    "in_dir = os.path.join('..', 'tests', 'input')\n",
    "in_zip_filepath = os.path.join(in_dir, 'raw.zip')\n",
    "in_csv_filepath = os.path.join(in_dir, 'dfr2_results_extracted.csv')"
   ]
  },
  {
   "cell_type": "code",
   "execution_count": null,
   "id": "8d11595a",
   "metadata": {},
   "outputs": [],
   "source": [
    "out_dir = 'output'\n",
    "out_sqlite_filepath = os.path.join(out_dir, 'deep_funding_round_2.sqlite')\n",
    "out_excel_filepath = os.path.join(out_dir, 'deep_funding_round_2.xlsx')"
   ]
  },
  {
   "cell_type": "markdown",
   "id": "0f6053fd",
   "metadata": {},
   "source": [
    "## Convert Swae data to SQLite\n",
    "\n",
    "Extract, transform and load (ETL) data from multiple JSON files into a single SQLite database"
   ]
  },
  {
   "cell_type": "code",
   "execution_count": null,
   "id": "528187df",
   "metadata": {},
   "outputs": [],
   "source": [
    "# in multiple steps\n",
    "json_data = swa.extract_swae_data(in_zip_filepath)\n",
    "tabular_data = swa.transform_swae_data(json_data)\n",
    "con = swa.load_sqlite(tabular_data, out_sqlite_filepath)"
   ]
  },
  {
   "cell_type": "code",
   "execution_count": null,
   "id": "3bd080bf",
   "metadata": {},
   "outputs": [],
   "source": [
    "# in one step\n",
    "con = swa.zip_to_sqlite(in_zip_filepath, out_sqlite_filepath, filters_on=False)"
   ]
  },
  {
   "cell_type": "markdown",
   "id": "ce1be4e6",
   "metadata": {},
   "source": [
    "Store the SQLite database optionally also in an Excel file with multiple sheets"
   ]
  },
  {
   "cell_type": "code",
   "execution_count": null,
   "id": "2b0270cc",
   "metadata": {},
   "outputs": [],
   "source": [
    "swa.sqlite_to_excel(con, out_excel_filepath)"
   ]
  },
  {
   "cell_type": "markdown",
   "id": "1df00eac",
   "metadata": {},
   "source": [
    "## Filter by missions\n",
    "\n",
    "Which proposals, comments, ratings and reactions belong to the chosen missons? Which users were active in them?"
   ]
  },
  {
   "cell_type": "code",
   "execution_count": null,
   "id": "3860b69f",
   "metadata": {},
   "outputs": [],
   "source": [
    "all_missions = swa.get_missions(con)\n",
    "selected_missions = [m for m in all_missions if m[1].startswith('Round 2')]\n",
    "selected_mission_ids = [m[0] for m in selected_missions]\n",
    "selected_mission_ids"
   ]
  },
  {
   "cell_type": "code",
   "execution_count": null,
   "id": "c08584db",
   "metadata": {},
   "outputs": [],
   "source": [
    "filter_id = 1\n",
    "swa.create_filter_views(con, filter_id, selected_mission_ids, extra_time_in_days=filter_id)"
   ]
  },
  {
   "cell_type": "markdown",
   "id": "f7416818",
   "metadata": {},
   "source": [
    "## Count user activities\n",
    "\n",
    "What proposals, comments, ratings and reactions did each user create and receive?"
   ]
  },
  {
   "cell_type": "code",
   "execution_count": null,
   "id": "22ae9c1a",
   "metadata": {},
   "outputs": [],
   "source": [
    "swa.create_counts_table(con, filter_id)"
   ]
  },
  {
   "cell_type": "markdown",
   "id": "942a6df9",
   "metadata": {},
   "source": [
    "## Calculate contribution scores\n",
    "\n",
    "How are the user activity counts converted into contribution scores? What values were given to the available variables?"
   ]
  },
  {
   "cell_type": "code",
   "execution_count": null,
   "id": "51beed59",
   "metadata": {},
   "outputs": [],
   "source": [
    "variables_dfr2 = {\n",
    "    'proposals_created': 0,\n",
    "\n",
    "    'ratings_created': 0,\n",
    "    'ratings_received': 0,\n",
    "\n",
    "    'comments_created': 3,\n",
    "    'comments_received': 0,\n",
    "\n",
    "    'upvote_reactions_created': 0,\n",
    "    'downvote_reactions_created': 0,\n",
    "    'celebrate_reactions_created': 0,\n",
    "    'clap_reactions_created': 0,\n",
    "    'curious_reactions_created': 0,\n",
    "    'genius_reactions_created': 0,\n",
    "    'happy_reactions_created': 0,\n",
    "    'hot_reactions_created': 0,\n",
    "    'laugh_reactions_created': 0,\n",
    "    'love_reactions_created': 0,\n",
    "\n",
    "    'anger_reactions_created': 0,\n",
    "    'sad_reactions_created': 0,\n",
    "\n",
    "    'upvote_reactions_received': 2,\n",
    "    'downvote_reactions_received': -3,\n",
    "    \n",
    "    'celebrate_reactions_received': 2,\n",
    "    'clap_reactions_received': 2,\n",
    "    'curious_reactions_received': 2,\n",
    "    'genius_reactions_received': 2,\n",
    "    'happy_reactions_received': 2,\n",
    "    'hot_reactions_received': 2,\n",
    "    'laugh_reactions_received': 2,\n",
    "    'love_reactions_received': 2,\n",
    "    \n",
    "    'anger_reactions_received': -2,\n",
    "    'sad_reactions_received': -2,\n",
    "    \n",
    "    'fraction_of_engagement_scores_for_highly_rated_proposals': 0.0,\n",
    "}"
   ]
  },
  {
   "cell_type": "code",
   "execution_count": null,
   "id": "1fec3979",
   "metadata": {},
   "outputs": [],
   "source": [
    "variables_id = 1\n",
    "swa.create_engagement_score_table(con, filter_id, variables_id, variables_dfr2)"
   ]
  },
  {
   "cell_type": "code",
   "execution_count": null,
   "id": "86b38f38",
   "metadata": {},
   "outputs": [],
   "source": [
    "data = swa.get_engagement_scores(con, filter_id, variables_id)\n",
    "\n",
    "import pandas as pd\n",
    "dfr2_auto = pd.DataFrame(data, columns=['user_id', 'engagement_score'])"
   ]
  },
  {
   "cell_type": "markdown",
   "id": "b9ea3f90",
   "metadata": {},
   "source": [
    "## Reward: Distribute rewards by user rank\n",
    "\n",
    "### a) Original distribution by grouping users into tiers"
   ]
  },
  {
   "cell_type": "code",
   "execution_count": null,
   "id": "03e69e67",
   "metadata": {},
   "outputs": [],
   "source": [
    "dfr2_man = pd.read_csv(in_csv_filepath)\n",
    "dfr2_man = dfr2_man[dfr2_man['contribution_score'] > 0.0]\n",
    "dfr2_man = dfr2_man.sort_values(by=['contribution_score', 'user_id'], ascending=[False, False])\n",
    "dfr2_man.reset_index(drop=True, inplace=True)\n",
    "dfr2_man.index = dfr2_man.index + 1\n",
    "\n",
    "dfr2_man[['user_id', 'contribution_score']]"
   ]
  },
  {
   "cell_type": "code",
   "execution_count": null,
   "id": "38109988",
   "metadata": {},
   "outputs": [],
   "source": [
    "(dfr2_auto.values == dfr2_man[['user_id', 'contribution_score']].values).all()"
   ]
  },
  {
   "cell_type": "code",
   "execution_count": null,
   "id": "5027b5df",
   "metadata": {},
   "outputs": [],
   "source": [
    "from ces.swae_analysis.visualize import _create_bar_plot as plot\n",
    "\n",
    "fig = plot(dfr2_man.index, dfr2_man['contribution_score'], 'User rank', 'Engagement score', 'black', inline=True)\n",
    "fig = plot(dfr2_man.index, dfr2_man['contribution_score_rewards'], 'User rank', 'AGIX', 'blue', inline=True)\n",
    "fig = plot(dfr2_man.index, dfr2_man['voting_weight'], 'User rank', 'Voting weight', 'green', inline=True)"
   ]
  },
  {
   "cell_type": "markdown",
   "id": "7ffaccd4",
   "metadata": {},
   "source": [
    "### b) New distribution by applying a continuous function"
   ]
  },
  {
   "cell_type": "code",
   "execution_count": null,
   "id": "92ed07c1",
   "metadata": {},
   "outputs": [],
   "source": [
    "distribution_id = 1\n",
    "\n",
    "filtered_user_ids = [\n",
    "    'jan.horlings@singularitynet.io',\n",
    "    'janhorlings@gmail.com',\n",
    "]\n",
    "swa.create_rewards_table(con, filter_id, variables_id, distribution_id,\n",
    "                         threshold_percentile=10,\n",
    "                         filtered_user_ids=filtered_user_ids,\n",
    "                         #function_agix_reward='x**3',\n",
    "                         #function_voting_weight='exp(x/10)'\n",
    ")\n",
    "figures = swa.plot_rewards(con, filter_id, variables_id, distribution_id, inline=True)"
   ]
  },
  {
   "cell_type": "markdown",
   "id": "2d54c0d6",
   "metadata": {},
   "source": [
    "## Network analysis\n",
    "\n",
    "The following is a preliminary attempt to calculate community engagement scores with network analysis and centrality measures."
   ]
  },
  {
   "cell_type": "code",
   "execution_count": null,
   "id": "8d5bc2bd",
   "metadata": {},
   "outputs": [],
   "source": [
    "import gravis as gv\n",
    "import networkx as nx"
   ]
  },
  {
   "cell_type": "code",
   "execution_count": null,
   "id": "c3874184",
   "metadata": {},
   "outputs": [],
   "source": [
    "mission_ids = ['c2c5e5c4-71c4-41cd-9fcf-e2fb3dbde8ab']\n",
    "\n",
    "dg = swa.sqlite_to_graph(con, mission_ids)\n",
    "gv.d3(dg, show_node_label=False)"
   ]
  },
  {
   "cell_type": "markdown",
   "id": "8e7abe19",
   "metadata": {},
   "source": [
    "Calculate centrality values and visualize them as node sizes"
   ]
  },
  {
   "cell_type": "code",
   "execution_count": null,
   "id": "608ec7c0",
   "metadata": {},
   "outputs": [],
   "source": [
    "node_to_centrality = nx.laplacian_centrality(dg)\n",
    "for nd, val in node_to_centrality.items():\n",
    "    dg.nodes[nd]['size'] = val * 1000\n",
    "\n",
    "fig = gv.d3(dg, show_node_label=False, node_drag_fix=True, node_hover_neighborhood=True)\n",
    "fig"
   ]
  }
 ],
 "metadata": {
  "kernelspec": {
   "display_name": "Python 3 (ipykernel)",
   "language": "python",
   "name": "python3"
  },
  "language_info": {
   "codemirror_mode": {
    "name": "ipython",
    "version": 3
   },
   "file_extension": ".py",
   "mimetype": "text/x-python",
   "name": "python",
   "nbconvert_exporter": "python",
   "pygments_lexer": "ipython3",
   "version": "3.11.4"
  }
 },
 "nbformat": 4,
 "nbformat_minor": 5
}
