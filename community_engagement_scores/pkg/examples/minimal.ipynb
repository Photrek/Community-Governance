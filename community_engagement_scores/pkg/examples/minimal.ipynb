{
 "cells": [
  {
   "cell_type": "markdown",
   "id": "3fc88349",
   "metadata": {},
   "source": [
    "# Community Engagement Scores\n",
    "\n",
    "This notebook demonstrates how to use the package `ces` for calculating Community Engagement Scores (CES) in a minimalistic way. As input it uses a data export from Swae (`raw.zip`) and as output it generates engagement scores, rewards and plots."
   ]
  },
  {
   "cell_type": "code",
   "execution_count": null,
   "id": "ff5407b0",
   "metadata": {},
   "outputs": [],
   "source": [
    "import os\n",
    "\n",
    "from ces import swae_analysis as swa"
   ]
  },
  {
   "cell_type": "markdown",
   "id": "4c7cb354",
   "metadata": {},
   "source": [
    "## Define input and output locations"
   ]
  },
  {
   "cell_type": "code",
   "execution_count": null,
   "id": "e0f05bb8",
   "metadata": {},
   "outputs": [],
   "source": [
    "in_dir = os.path.join('..', 'tests', 'input')\n",
    "in_zip_filepath = os.path.join(in_dir, 'raw.zip')\n",
    "in_csv_filepath = os.path.join(in_dir, 'dfr2_results_extracted.csv')"
   ]
  },
  {
   "cell_type": "code",
   "execution_count": null,
   "id": "8d11595a",
   "metadata": {},
   "outputs": [],
   "source": [
    "out_dir = 'output'\n",
    "out_sqlite_filepath = os.path.join(out_dir, 'deep_funding_round_2.sqlite')\n",
    "out_excel_filepath = os.path.join(out_dir, 'deep_funding_round_2.xlsx')"
   ]
  },
  {
   "cell_type": "markdown",
   "id": "0f6053fd",
   "metadata": {},
   "source": [
    "## Convert Swae data to SQLite\n",
    "\n",
    "Extract, transform and load (ETL) data from multiple semi-structured JSON files into a single structured SQLite database"
   ]
  },
  {
   "cell_type": "code",
   "execution_count": null,
   "id": "528187df",
   "metadata": {},
   "outputs": [],
   "source": [
    "con = swa.zip_to_sqlite(in_zip_filepath, out_sqlite_filepath, filters_on=False)"
   ]
  },
  {
   "cell_type": "markdown",
   "id": "942a6df9",
   "metadata": {},
   "source": [
    "## Calculate engagement scores and rewards"
   ]
  },
  {
   "cell_type": "code",
   "execution_count": null,
   "id": "79b7c5fc-db67-4b44-9a54-d95cb67fe633",
   "metadata": {},
   "outputs": [],
   "source": [
    "mission_ids = [\n",
    "    'ceb335c2-ba7f-4aa7-939a-4d1c97294865',\n",
    "    '27842bc3-83b7-4aef-ad75-2ef7c8938755',\n",
    "    '8fec6dee-3831-462a-b1fc-2ebe562db79d',\n",
    "    'cccaa945-e5c3-49ae-832f-055ddd4e180f',\n",
    "    'de5c7837-32c0-4337-8a73-62beb4da1f59',\n",
    "]"
   ]
  },
  {
   "cell_type": "code",
   "execution_count": null,
   "id": "32a8e280-c890-4e66-963a-00942ebb9919",
   "metadata": {},
   "outputs": [],
   "source": [
    "variables_dfr2 = {\n",
    "    'proposals_created': 0,\n",
    "    'ratings_created': 0,\n",
    "    'ratings_received': 0,\n",
    "    'comments_created': 3,\n",
    "    'comments_received': 0,\n",
    "    'upvote_reactions_created': 0,\n",
    "    'downvote_reactions_created': 0,\n",
    "    'celebrate_reactions_created': 0,\n",
    "    'clap_reactions_created': 0,\n",
    "    'curious_reactions_created': 0,\n",
    "    'genius_reactions_created': 0,\n",
    "    'happy_reactions_created': 0,\n",
    "    'hot_reactions_created': 0,\n",
    "    'laugh_reactions_created': 0,\n",
    "    'love_reactions_created': 0,\n",
    "    'anger_reactions_created': 0,\n",
    "    'sad_reactions_created': 0,\n",
    "    'upvote_reactions_received': 2,\n",
    "    'downvote_reactions_received': -3,\n",
    "    'celebrate_reactions_received': 2,\n",
    "    'clap_reactions_received': 2,\n",
    "    'curious_reactions_received': 2,\n",
    "    'genius_reactions_received': 2,\n",
    "    'happy_reactions_received': 2,\n",
    "    'hot_reactions_received': 2,\n",
    "    'laugh_reactions_received': 2,\n",
    "    'love_reactions_received': 2,\n",
    "    'anger_reactions_received': -2,\n",
    "    'sad_reactions_received': -2,    \n",
    "    'fraction_of_engagement_scores_for_highly_rated_proposals': 0.0,\n",
    "}"
   ]
  },
  {
   "cell_type": "code",
   "execution_count": null,
   "id": "2e19eaaf-1cf0-4384-a6be-546380bad7c6",
   "metadata": {},
   "outputs": [],
   "source": [
    "filtered_user_ids = [\n",
    "    'jan.horlings@singularitynet.io',\n",
    "    'janhorlings@gmail.com',\n",
    "]"
   ]
  },
  {
   "cell_type": "code",
   "execution_count": null,
   "id": "51beed59",
   "metadata": {},
   "outputs": [],
   "source": [
    "scores, rewards, figures = swa.sqlite_to_scores_and_rewards(\n",
    "    con,\n",
    "    mission_ids=mission_ids,\n",
    "    variables=variables_dfr2,\n",
    "    filtered_user_ids=filtered_user_ids,\n",
    "    function_agix_reward=\"x**2\",\n",
    "    function_voting_weight=\"x**2\",\n",
    "    inline=True,\n",
    ")"
   ]
  },
  {
   "cell_type": "code",
   "execution_count": null,
   "id": "6964a260-b833-4be7-aefc-4356ded107a6",
   "metadata": {},
   "outputs": [],
   "source": [
    "print(\"{:50}{}\".format(\"User ID\", \"Engagement score\"))\n",
    "for uid, score in scores:\n",
    "    print(\"{:50}{}\".format(uid, score))"
   ]
  }
 ],
 "metadata": {
  "kernelspec": {
   "display_name": "Python 3 (ipykernel)",
   "language": "python",
   "name": "python3"
  },
  "language_info": {
   "codemirror_mode": {
    "name": "ipython",
    "version": 3
   },
   "file_extension": ".py",
   "mimetype": "text/x-python",
   "name": "python",
   "nbconvert_exporter": "python",
   "pygments_lexer": "ipython3",
   "version": "3.11.4"
  }
 },
 "nbformat": 4,
 "nbformat_minor": 5
}
